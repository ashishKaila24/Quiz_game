{
 "cells": [
  {
   "cell_type": "code",
   "execution_count": 1,
   "id": "e61f61a2",
   "metadata": {},
   "outputs": [
    {
     "name": "stdout",
     "output_type": "stream",
     "text": [
      "                                     Wel come to master branch                                      \n",
      "\t\n",
      "                       menu                       \n",
      "press 1 for add question\n",
      "press 2 for view question\n",
      "press 3 for delete question\n",
      "press 4 for exit question\n",
      "Please enter your choice : 1\n",
      "q: sfdsdgs\n",
      "How many option you want : 2\n",
      "op1: sdf\n",
      "op2: ff\n",
      "ra: ff\n",
      "Please enter your choice : 1\n",
      "q: sdffd\n",
      "How many option you want : 3\n",
      "op1: df\n",
      "op2: ff\n",
      "op3: dd\n",
      "ra: dd\n",
      "Please enter your choice : 2\n",
      "question1: sfdsdgs\n",
      "options : ['sdf', 'ff']\n",
      "right answer : ff\n",
      "question2: sdffd\n",
      "options : ['df', 'ff', 'dd']\n",
      "right answer : dd\n",
      "Please enter your choice : 3\n",
      "Which question you want to delete : 2\n",
      "Please enter your choice : 2\n",
      "question1: sfdsdgs\n",
      "options : ['sdf', 'ff']\n",
      "right answer : ff\n",
      "Please enter your choice : 4\n",
      "exit\n"
     ]
    }
   ],
   "source": [
    "print(\"Wel come to master branch\".center(100))\n",
    "print(\"\\t\")\n",
    "print(\"menu\".center(50))\n",
    "print(\"press 1 for add question\")\n",
    "print(\"press 2 for view question\")\n",
    "print(\"press 3 for delete question\")\n",
    "print(\"press 4 for exit question\")\n",
    "question = []\n",
    "option = []\n",
    "right_ans = []\n",
    "while True:\n",
    "    a = input(\"Please enter your choice : \")\n",
    "    if a == \"1\":\n",
    "        que = input(\"q: \")\n",
    "        f = input(\"How many option you want : \")\n",
    "        op = []\n",
    "        for i in range(int(f)):\n",
    "            d = input(\"op\" + str(i+1) + \": \")\n",
    "            op.append(d)\n",
    "        ra = input (\"ra: \")\n",
    "        question.append(que)\n",
    "        right_ans.append(ra)\n",
    "        option.append(op)\n",
    "    elif a == \"2\":\n",
    "        for i in range(len(question)):\n",
    "            print(\"question\" + str(i+1) + \": \" + str(question[i]))\n",
    "            print(\"options : \" + str(option[i]))\n",
    "            print(\"right answer : \" + str(right_ans[i]))\n",
    "    elif a == \"3\":\n",
    "        w = int(input(\"Which question you want to delete : \"))\n",
    "        z = w-1\n",
    "        question.pop(z)\n",
    "        option.pop(z)\n",
    "        right_ans.pop(z)\n",
    "    elif a == \"4\":\n",
    "        print(\"exit\")\n",
    "        break"
   ]
  }
 ],
 "metadata": {
  "kernelspec": {
   "display_name": "Python 3 (ipykernel)",
   "language": "python",
   "name": "python3"
  },
  "language_info": {
   "codemirror_mode": {
    "name": "ipython",
    "version": 3
   },
   "file_extension": ".py",
   "mimetype": "text/x-python",
   "name": "python",
   "nbconvert_exporter": "python",
   "pygments_lexer": "ipython3",
   "version": "3.9.12"
  }
 },
 "nbformat": 4,
 "nbformat_minor": 5
}
