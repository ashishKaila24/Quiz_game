{
 "cells": [
  {
   "cell_type": "code",
   "execution_count": 1,
   "metadata": {},
   "outputs": [
    {
     "name": "stdout",
     "output_type": "stream",
     "text": [
      "Wel come to quiz game\n",
      "enter 1 for master\n",
      "enter 2 for solver\n",
      "enter 3 for exit to the game\n",
      "Please enter your choise = 1\n",
      "Wel come to master\n",
      "1 for add question\n",
      "2 for show question\n",
      "3 for delete question\n",
      "4 for exit\n",
      "Please enter your choise = 1\n",
      "q: 4crvfrcd\n",
      "How many option you want : 2\n",
      "op1: 11\n",
      "op2: 22\n",
      "ra: 11\n",
      "Please enter your choise = 2\n",
      "question1: 4crvfrcd\n",
      "options : ['11', '22']\n",
      "right answer : 11\n",
      "Please enter your choise = 4\n",
      "exit\n",
      "Please enter your choise = 2\n",
      "Welcome solver\n",
      "4crvfrcd\n",
      "['11', '22']\n",
      "Please enter your ans. = 11\n",
      "correct\n",
      "your true ans = 1\n",
      "your worng ans = 0\n"
     ]
    }
   ],
   "source": [
    "print(\"Wel come to quiz game\")\n",
    "print(\"enter 1 for master\")\n",
    "print(\"enter 2 for solver\")\n",
    "print(\"enter 3 for exit to the game\")\n",
    "question = []\n",
    "option = []\n",
    "right_ans = []\n",
    "while True:\n",
    "    a = input(\"Please enter your choise = \")\n",
    "    if a == \"1\":\n",
    "        print(\"Wel come to master\")\n",
    "        print(\"1 for add question\")\n",
    "        print(\"2 for show question\")\n",
    "        print(\"3 for delete question\")\n",
    "        print(\"4 for exit\")\n",
    "        while True:\n",
    "            b = input(\"Please enter your choise = \")\n",
    "            if b == \"1\":\n",
    "                que = input(\"q: \")\n",
    "                f = input(\"How many option you want : \")\n",
    "                op = []\n",
    "                for i in range(int(f)):\n",
    "                    d = input(\"op\" + str(i+1) + \": \")\n",
    "                    op.append(d)\n",
    "                ra = input (\"ra: \")\n",
    "                question.append(que)\n",
    "                right_ans.append(ra)\n",
    "                option.append(op)\n",
    "            elif b == \"2\":\n",
    "                for i in range(len(question)):\n",
    "                    print(\"question\" + str(i+1) + \": \" + str(question[i]))\n",
    "                    print(\"options : \" + str(option[i]))\n",
    "                    print(\"right answer : \" + str(right_ans[i]))\n",
    "            elif b == \"3\":\n",
    "                w = int(input(\"Which question you want to delete : \"))\n",
    "                z = w-1\n",
    "                question.pop(z)\n",
    "                option.pop(z)\n",
    "                right_ans.pop(z)\n",
    "            elif b == \"4\":\n",
    "                print(\"exit\")\n",
    "                break\n",
    "            else:\n",
    "                print(\"please enter valid option\")\n",
    "    elif a == \"2\":\n",
    "        print(\"Welcome solver\")\n",
    "        r = 0\n",
    "        w = 0\n",
    "        for i in range(len(question)):\n",
    "            print(question[i])\n",
    "            print(option[i])\n",
    "            k = input(\"Please enter your ans. = \")\n",
    "            if k in right_ans:\n",
    "                print(\"correct\")\n",
    "                r = r + 1\n",
    "            else:\n",
    "                print(\"sorry\")\n",
    "                w = w + 1\n",
    "        print(\"your true ans = \" + str(r))\n",
    "        print(\"your worng ans = \" + str(w))\n",
    "        break\n",
    "    \n",
    "    elif a == \"3\":\n",
    "        print(\"exit\")\n",
    "        break\n",
    "    else:\n",
    "        print(\"please enter valid option\")"
   ]
  },
  {
   "cell_type": "code",
   "execution_count": null,
   "metadata": {},
   "outputs": [],
   "source": []
  }
 ],
 "metadata": {
  "kernelspec": {
   "display_name": "Python 3 (ipykernel)",
   "language": "python",
   "name": "python3"
  },
  "language_info": {
   "codemirror_mode": {
    "name": "ipython",
    "version": 3
   },
   "file_extension": ".py",
   "mimetype": "text/x-python",
   "name": "python",
   "nbconvert_exporter": "python",
   "pygments_lexer": "ipython3",
   "version": "3.9.12"
  },
  "vscode": {
   "interpreter": {
    "hash": "a525a10448e1ee29f2ac50818e23e6df37fd913d39d4563f88c8b10edf86d96e"
   }
  }
 },
 "nbformat": 4,
 "nbformat_minor": 2
}
