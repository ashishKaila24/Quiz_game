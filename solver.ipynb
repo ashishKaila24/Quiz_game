{
 "cells": [
  {
   "cell_type": "code",
   "execution_count": 1,
   "id": "3326a23d",
   "metadata": {},
   "outputs": [
    {
     "name": "stdout",
     "output_type": "stream",
     "text": [
      "                                     Wel come to master branch                                      \n",
      "\t\n",
      "                       menu                       \n",
      "press 1 for add question\n",
      "press 2 for view question\n",
      "press 3 for delete question\n",
      "press 4 for exit question\n",
      "Please enter your choice : 1\n",
      "q: zvnxvbjxbvk\n",
      "How many option you want : 2\n",
      "op1: 12\n",
      "op2: 11\n",
      "ra: 11\n",
      "Please enter your choice : 1\n",
      "q: 1scscac\n",
      "How many option you want : 3\n",
      "op1: ss\n",
      "op2: dd\n",
      "op3: ff\n",
      "ra: dd\n",
      "Please enter your choice : 4\n",
      "exit\n"
     ]
    }
   ],
   "source": [
    "import quizMaster"
   ]
  },
  {
   "cell_type": "code",
   "execution_count": 5,
   "id": "523a7be6",
   "metadata": {},
   "outputs": [
    {
     "name": "stdout",
     "output_type": "stream",
     "text": [
      "Welcome solver\n",
      "zvnxvbjxbvk\n",
      "['12', '11']\n",
      "Please enter your ans. = 11\n",
      "correct\n",
      "1scscac\n",
      "['ss', 'dd', 'ff']\n",
      "Please enter your ans. = ss\n",
      "sorry\n",
      "your true ans = 1\n",
      "your worng ans = 1\n"
     ]
    }
   ],
   "source": [
    "print(\"Welcome solver\")\n",
    "r = 0\n",
    "w = 0\n",
    "for i in range(len(quizMaster.question)):\n",
    "    print(quizMaster.question[i])\n",
    "    print(quizMaster.option[i])\n",
    "    k = input(\"Please enter your ans. = \")\n",
    "    if k in quizMaster.right_ans:\n",
    "        print(\"correct\")\n",
    "        r = r + 1\n",
    "    else:\n",
    "        print(\"sorry\")\n",
    "        w = w + 1\n",
    "print(\"your true ans = \" + str(r))\n",
    "print(\"your worng ans = \" + str(w))"
   ]
  }
 ],
 "metadata": {
  "kernelspec": {
   "display_name": "Python 3 (ipykernel)",
   "language": "python",
   "name": "python3"
  },
  "language_info": {
   "codemirror_mode": {
    "name": "ipython",
    "version": 3
   },
   "file_extension": ".py",
   "mimetype": "text/x-python",
   "name": "python",
   "nbconvert_exporter": "python",
   "pygments_lexer": "ipython3",
   "version": "3.9.12"
  }
 },
 "nbformat": 4,
 "nbformat_minor": 5
}
